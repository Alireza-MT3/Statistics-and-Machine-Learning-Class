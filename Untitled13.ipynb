{
  "nbformat": 4,
  "nbformat_minor": 0,
  "metadata": {
    "colab": {
      "provenance": []
    },
    "kernelspec": {
      "name": "python3",
      "display_name": "Python 3"
    },
    "language_info": {
      "name": "python"
    }
  },
  "cells": [
    {
      "cell_type": "markdown",
      "source": [
        "Numpy introduction:"
      ],
      "metadata": {
        "id": "7BuNMyd8bjHl"
      }
    },
    {
      "cell_type": "code",
      "execution_count": 11,
      "metadata": {
        "colab": {
          "base_uri": "https://localhost:8080/"
        },
        "id": "LbagP7DgSOFd",
        "outputId": "e6c32fbe-79c3-43ad-e858-eddc1743e6a9"
      },
      "outputs": [
        {
          "output_type": "execute_result",
          "data": {
            "text/plain": [
              "array([1, 3])"
            ]
          },
          "metadata": {},
          "execution_count": 11
        }
      ],
      "source": [
        "import numpy as np\n",
        "\n",
        "#Arrays (1D, 2D, 3D)\n",
        "#Array indexing (0, ...)\n",
        "#Data type (int, float, bool, char, string)\n",
        "#Assigning - print - commenting\n",
        "\n",
        "a = np.array([1, 2, 3])\n",
        "#b = np.array([(1.5, 2, 3), (4, 5, 6)], dtype = float)\n",
        "#c = np.array([[(1.5, 2, 3), (4, 5, 6)], [(3, 2, 1), (4, 5, 6)]], dtype = float)\n",
        "\n",
        "#np.zeros((3, 4))\n",
        "#np.ones((2, 3, 4))\n",
        "#np.random.random(2) #random between 0-1\n",
        "\n",
        "##Array inspection\n",
        "#a.shape #Array dimensions\n",
        "#len(a) #Length of array\n",
        "#a.ndim #Number of array dimensions\n",
        "#a.size #Number of array elements\n",
        "#a.dtype #Data type of array elements\n",
        "\n",
        "##Arithmetic Ops\n",
        "#np.add(a, b)\n",
        "#np.subtract(a, b)\n",
        "#np.divide(a, b)\n",
        "#np.multiply(a, b)\n",
        "\n",
        "##Comparison\n",
        "#a < 2 #Element-wise comparsin\n",
        "#a == b #//\n",
        "#np.array_equal(a, b) #Array-wise comparison\n",
        "\n",
        "##Functions\n",
        "#a.min()\n",
        "#a.max(axis = 0) #Max value of an array row\n",
        "#a.mean()\n",
        "#a.median()\n",
        "#np.std(a)\n",
        "####np.corrcoef(a)\n",
        "\n",
        "#a.sort()\n",
        "\n",
        "##Subsetting\n",
        "#a[2]\n",
        "#b[1, 2] #row 1 column 2\n",
        "\n",
        "##Slicing\n",
        "#a[0:2] #Select items at index 0 and 1\n",
        "#a[a<2] #Select elements from a less than 2\n",
        "\n",
        "#np.append(a, 2)\n",
        "#np.insert(a, 1, 5) #at index 1\n",
        "#np.delete(a, [1])\n",
        "\n",
        "#np.concatenate((a, d), axis = 0)"
      ]
    },
    {
      "cell_type": "markdown",
      "source": [
        "Pandas introduction:"
      ],
      "metadata": {
        "id": "wzfEkFJgx1Eh"
      }
    },
    {
      "cell_type": "code",
      "source": [
        "import pandas as pd\n",
        "\n",
        "#Dataframe\n",
        "\n",
        "data = {'Country' : ['Belgium', 'India', 'Brazil'],\n",
        "        'Capital' : ['Brussels', 'New Delhi', 'Brasília'],\n",
        "     'Population' : [11190846, 1303171035, 207847528]}\n",
        "\n",
        "# df = pd.DataFrame(data, columns = ['Country', 'Capital', 'Population'])\n",
        "# print(df)"
      ],
      "metadata": {
        "id": "mqB_i3tox5wc"
      },
      "execution_count": null,
      "outputs": []
    },
    {
      "cell_type": "code",
      "source": [
        "# Drop\n",
        "# df.drop('Country', axis = 1)"
      ],
      "metadata": {
        "id": "ON3HNe5o0OeE"
      },
      "execution_count": null,
      "outputs": []
    },
    {
      "cell_type": "code",
      "source": [
        "# Sort\n",
        "# df.sort_values(by = 'Population')"
      ],
      "metadata": {
        "id": "5kVAk3Jy0jDE"
      },
      "execution_count": null,
      "outputs": []
    },
    {
      "cell_type": "code",
      "source": [
        "# CSV\n",
        "# pd.read_csv(\"File name\")\n",
        "# df.to_csv(\"File name\")"
      ],
      "metadata": {
        "id": "FqxUUpam0--7"
      },
      "execution_count": null,
      "outputs": []
    },
    {
      "cell_type": "code",
      "source": [
        "df[1:] #Get subset of a DataFrame"
      ],
      "metadata": {
        "id": "CZB0bRsI1P2z"
      },
      "execution_count": null,
      "outputs": []
    },
    {
      "cell_type": "code",
      "source": [
        "# Selection\n",
        "# df.iloc[[0], [0]] #Select single value by row & column\n",
        "\n",
        "# df.loc[[0], ['Country']] #Select single value by row & column labels\n",
        "\n",
        "# df[df['Population'] > 1200000000]"
      ],
      "metadata": {
        "id": "65o3sxx31jeU"
      },
      "execution_count": null,
      "outputs": []
    },
    {
      "cell_type": "code",
      "source": [
        "# Basic info\n",
        "# df.shape\n",
        "# df.index\n",
        "# df.columns\n",
        "# df.info()\n",
        "# df.count()"
      ],
      "metadata": {
        "id": "VMlkc2Bx31EV"
      },
      "execution_count": null,
      "outputs": []
    },
    {
      "cell_type": "code",
      "source": [
        "# df.min()\n",
        "# df.max()\n",
        "# df.mean()\n",
        "# df.median()\n",
        "# df.describe()"
      ],
      "metadata": {
        "id": "aqEDiOl_4iuy"
      },
      "execution_count": null,
      "outputs": []
    },
    {
      "cell_type": "markdown",
      "source": [
        "Matplotlib introduction:"
      ],
      "metadata": {
        "id": "rT1S2Mzc40GW"
      }
    },
    {
      "cell_type": "code",
      "source": [
        "import matplotlib.pyplot as plt\n",
        "\n",
        "x = [1, 2, 3, 4]\n",
        "y = [10, 20, 25, 30]\n",
        "fig = plt.figure()\n",
        "ax = fig.add_subplot(221)\n",
        "ax.plot(x, y, color = 'lightblue', linewidth = 3)\n",
        "ax.scatter([2, 4, 6], [5, 15, 25], color = 'green', marker = '^')\n"
      ],
      "metadata": {
        "colab": {
          "base_uri": "https://localhost:8080/",
          "height": 245
        },
        "id": "ulQ8Tjxx5DI6",
        "outputId": "48a3bbb8-2204-4e50-8caf-abca5e76cc5e"
      },
      "execution_count": 52,
      "outputs": [
        {
          "output_type": "execute_result",
          "data": {
            "text/plain": [
              "<matplotlib.collections.PathCollection at 0x794500f4eaa0>"
            ]
          },
          "metadata": {},
          "execution_count": 52
        },
        {
          "output_type": "display_data",
          "data": {
            "text/plain": [
              "<Figure size 640x480 with 1 Axes>"
            ],
            "image/png": "[encoded data removed]"
          },
          "metadata": {}
        }
      ]
    }
  ]
}